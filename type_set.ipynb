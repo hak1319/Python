{
  "nbformat": 4,
  "nbformat_minor": 0,
  "metadata": {
    "colab": {
      "provenance": [],
      "authorship_tag": "ABX9TyP29n1BUSAbT2bl1lBPtLxo",
      "include_colab_link": true
    },
    "kernelspec": {
      "name": "python3",
      "display_name": "Python 3"
    },
    "language_info": {
      "name": "python"
    }
  },
  "cells": [
    {
      "cell_type": "markdown",
      "metadata": {
        "id": "view-in-github",
        "colab_type": "text"
      },
      "source": [
        "<a href=\"https://colab.research.google.com/github/hak1319/Python/blob/main/type_set.ipynb\" target=\"_parent\"><img src=\"https://colab.research.google.com/assets/colab-badge.svg\" alt=\"Open In Colab\"/></a>"
      ]
    },
    {
      "cell_type": "markdown",
      "source": [
        "# set (집합)\n",
        "\n",
        "        * set은 수학의 집합을 의미\n",
        "        * 딕셔너리와 같이 순서가 없음\n",
        "        * 값의 중복을 허락하지 않음 -> 출력 시 나오는 값이 매번 다르게 나옴\n",
        "        * set 생성방법 중괄호 {}\n",
        "        * 합집합 교집합 차집합 이런거에 유용함\n",
        "\n",
        "##method\n",
        "        * .add(\"00\")\n",
        "        * .update(\"00\")\n",
        "        * .remove(\"00\")  -> 없으면 에러가 발생\n",
        "        * .discard(\"00\") -> 없어도 그냥 코딩됨\n",
        "        * .pop() -> 임의의 데이터를 삭제하고 반환 (set만 랜덤 나머지 자료형에선 끝삭제)\n",
        "        * .union() - 합집합 ( 00 | 00 )\n",
        "        * .intersection() - 교집합 ( 00 & 00)\n",
        "        * .difference() - 차집합\n",
        "\n",
        "\n",
        "\n"
      ],
      "metadata": {
        "id": "kA-1jxvBcmsW"
      }
    },
    {
      "cell_type": "code",
      "source": [
        "채소1 = {\"당근\",\"배추\",\"대파\",\"양파\"}\n",
        "채소2 = {\"배추\", \"대파\",\"오이\", \"가지\"}\n",
        "type(채소1)"
      ],
      "metadata": {
        "colab": {
          "base_uri": "https://localhost:8080/"
        },
        "id": "Lg55-EZccmXN",
        "outputId": "dc7659a2-3b68-4af7-eb68-bf605ca32032"
      },
      "execution_count": 20,
      "outputs": [
        {
          "output_type": "execute_result",
          "data": {
            "text/plain": [
              "set"
            ]
          },
          "metadata": {},
          "execution_count": 20
        }
      ]
    },
    {
      "cell_type": "code",
      "execution_count": null,
      "metadata": {
        "id": "L7oyw09JckPD"
      },
      "outputs": [],
      "source": [
        "#set 을 만드는 다양한 방법\n",
        "\n",
        "set1 = set()\n",
        "set2 = {}"
      ]
    },
    {
      "cell_type": "code",
      "source": [
        "#중복 x\n",
        "\n",
        "apple=list('apple')\n",
        "print(apple)\n",
        "apple=tuple('apple')\n",
        "print(apple)\n",
        "apple=set('apple')\n",
        "print(apple)"
      ],
      "metadata": {
        "colab": {
          "base_uri": "https://localhost:8080/"
        },
        "id": "Dq5R-k0qde7u",
        "outputId": "fe85d643-a823-4376-832d-ebf47ac33218"
      },
      "execution_count": 6,
      "outputs": [
        {
          "output_type": "stream",
          "name": "stdout",
          "text": [
            "['a', 'p', 'p', 'l', 'e']\n",
            "('a', 'p', 'p', 'l', 'e')\n",
            "{'a', 'l', 'e', 'p'}\n"
          ]
        }
      ]
    },
    {
      "cell_type": "code",
      "source": [
        "# 버린채소 = 채소.pop()\n",
        "# print(버린채소)\n",
        "\n",
        "# print('내다버린 채소 {}'.format(버린채소))"
      ],
      "metadata": {
        "colab": {
          "base_uri": "https://localhost:8080/"
        },
        "id": "4pHequcRftfA",
        "outputId": "ffa0a791-5c68-460b-c854-8b071ff4fd17"
      },
      "execution_count": 17,
      "outputs": [
        {
          "output_type": "stream",
          "name": "stdout",
          "text": [
            "양파\n",
            "내다버린 채소 양파\n"
          ]
        }
      ]
    },
    {
      "cell_type": "code",
      "source": [
        "채소1.union(채소2)\n",
        "채소1.intersection(채소2)\n",
        "\n",
        "채소1.difference(채소2)\n",
        "\n"
      ],
      "metadata": {
        "colab": {
          "base_uri": "https://localhost:8080/"
        },
        "id": "GkVwDJN3hBaD",
        "outputId": "6b5ac57f-8b0f-4eef-ba72-57422a596a55"
      },
      "execution_count": 27,
      "outputs": [
        {
          "output_type": "execute_result",
          "data": {
            "text/plain": [
              "{'당근', '양파'}"
            ]
          },
          "metadata": {},
          "execution_count": 27
        }
      ]
    },
    {
      "cell_type": "code",
      "source": [],
      "metadata": {
        "id": "RMi-ZSV_ubp1"
      },
      "execution_count": null,
      "outputs": []
    }
  ]
}