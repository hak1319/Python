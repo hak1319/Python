{
  "nbformat": 4,
  "nbformat_minor": 0,
  "metadata": {
    "colab": {
      "provenance": [],
      "authorship_tag": "ABX9TyNKTugREQiYSwyYwGVdCaXR",
      "include_colab_link": true
    },
    "kernelspec": {
      "name": "python3",
      "display_name": "Python 3"
    },
    "language_info": {
      "name": "python"
    }
  },
  "cells": [
    {
      "cell_type": "markdown",
      "metadata": {
        "id": "view-in-github",
        "colab_type": "text"
      },
      "source": [
        "<a href=\"https://colab.research.google.com/github/hak1319/Python_study/blob/main/type_all.ipynb\" target=\"_parent\"><img src=\"https://colab.research.google.com/assets/colab-badge.svg\" alt=\"Open In Colab\"/></a>"
      ]
    },
    {
      "cell_type": "markdown",
      "source": [],
      "metadata": {
        "id": "e4AWVeJ2w_TT"
      }
    },
    {
      "cell_type": "markdown",
      "source": [
        "# type_tuple\n",
        "\n",
        "        * 리스트처럼 요소를 일렬로 저장하지만 안에 저장된 요소를 변경, 추가, 삭제 할 수 없다.\n",
        "        * 생성방법 ()\n",
        "        * 가장 간단한 자료 구조 중 하나 , 다른 객체들을 포함하는 객체\n",
        "        \n",
        "#### method\n",
        "\n",
        "        * 슬라이싱 (:),(첫번째:끝:출력간격) : 비우면 처음 or 마지막 or 간격없음\n",
        "\n",
        "\n",
        "# type_list\n",
        "\n",
        "        * 다양한 형태로 저장 가능 (튜플 ,문자열 ...)\n",
        "        * 시퀀스 자료형에서 사용 가능한 method (count(), index(), split() ...)\n",
        "        * 슬라이싱 [:],[시작:끝:간격]\n",
        "        * 2차원 배열 ([[[3,1],[2,1]])\n",
        "        \n",
        "#### method\n",
        "\n",
        "        * .insert(-,\"00\") : 해당위치에 원하는 위치에 자료 입력\n",
        "        * .remove(00) : 해당 값 제거\n",
        "        * .append() : 끝에 그 자체의 원소를 넣음 리스트형이면 리스트 자체를 넣음\n",
        "        * .extend() : []를 벗겨서 풀어서 넣음\n",
        "        * .count(00) : 해당 요소를 카운트\n",
        "        * .sort() : 오름차순 정리 ,문자열도 가능 (앞글자식 비교 정리)\n",
        "        * .reverse() : 안의 값 뒤집기\n",
        "        * .index(0) : 리스트 내 해당위치 값 반환\n",
        "        * .pop(x) : x+1에 해당하는 값 삭제\n",
        "\n",
        "# type_dict (딕셔너리)\n",
        "\n",
        "        * list, tuple, str, range(범위안에 연속된 데이터를 만드는 시퀀스 였습니다.)\n",
        "        공통적인 특징 : 데이터의 연관성이 없음\n",
        "        * 다양한 종류의 불변객체를 사용해서 자료에 접근\n",
        "        * dict 는 여러개의 값이 일렬로 정렬되면서도 값끼리의 연관성이 존재\n",
        "        (게임 캐릭터 (힘 : 30, 지능 : 20, 체력 : 40, 민첩 : 90))\n",
        "        * dict 생성방법은 중괄호 {}\n",
        "        * dict 부를때는 dict['key'] - 괄호 주의\n",
        "        * dict - > list -- list(00.keys())\n",
        "\n",
        "#### method\n",
        "\n",
        "        * zip() : 병렬처리를 도와줌\n",
        "        ex) dcit1 = dict(zip([\"힘\",\"지능\",\"체력\",\"민첩\"],[30,20,40,90]))\n",
        "        딕셔너리 가됨 (for문에 도움)\n",
        "        배열의 개수를 맞춰주는 것 중요\n",
        "        작은것의 배열에 맞춰 잘름\n",
        "\n",
        "        * .keys() -  key값만 반환\n",
        "        * .values() - value값만 반환\n",
        "        * .items() - pair 로 나옴\n",
        "        type(00.tiems()) -> calss 자체가 dict_items 임\n",
        "        list1 = list(00.items())\n",
        "        list1[0] -> 출력 인덱싱을 하면 원하는 값을 뽑아 올 수 있음\n",
        "        * .update - 딕셔너리 값 추가 update({\"00\":00}) , 추가하려는 것 그냥 00['00']=[00]해도 추가 됨\n",
        "\n",
        "\n",
        "# type_set (집합)\n",
        "\n",
        "        * set은 수학의 집합을 의미\n",
        "        * 딕셔너리와 같이 순서가 없음\n",
        "        * 값의 중복을 허락하지 않음 -> 출력 시 나오는 값이 매번 다르게 나옴\n",
        "        * set 생성방법 중괄호 {}\n",
        "        * 합집합 교집합 차집합 이런거에 유용함\n",
        "        * 숫자 확인시 없는 숫자를 한눈에 보기 용이 , 문자욜 사용가능 띄워쓰기도 나옴\n",
        "\n",
        "#### method\n",
        "\n",
        "        * .add(\"00\")\n",
        "        * .update(\"00\")\n",
        "        * .remove(\"00\")  -> 없으면 에러가 발생\n",
        "        * .discard(\"00\") -> 없어도 그냥 코딩됨\n",
        "        * .pop() -> 임의의 데이터를 삭제하고 반환 (set만 랜덤 나머지 자료형에선 끝삭제)\n",
        "        * .union() - 합집합 ( 00 | 00 )\n",
        "        * .intersection() - 교집합 ( 00 & 00)\n",
        "        * .difference() - 차집합\n"
      ],
      "metadata": {
        "id": "F6clnp_cw_Vi"
      }
    },
    {
      "cell_type": "code",
      "source": [
        "odd = [10,2,5,8,7,9,10,13]\n",
        "print(odd.count(10))\n",
        "\n"
      ],
      "metadata": {
        "colab": {
          "base_uri": "https://localhost:8080/"
        },
        "id": "zwgKCLZorlMu",
        "outputId": "10e5b807-3bad-48da-db9d-887f05047661"
      },
      "execution_count": 3,
      "outputs": [
        {
          "output_type": "stream",
          "name": "stdout",
          "text": [
            "2\n"
          ]
        }
      ]
    }
  ]
}