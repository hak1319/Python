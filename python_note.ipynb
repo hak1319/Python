{
  "nbformat": 4,
  "nbformat_minor": 0,
  "metadata": {
    "colab": {
      "provenance": [],
      "authorship_tag": "ABX9TyMSaxVKfPzi94TdG9WrcZI3",
      "include_colab_link": true
    },
    "kernelspec": {
      "name": "python3",
      "display_name": "Python 3"
    },
    "language_info": {
      "name": "python"
    }
  },
  "cells": [
    {
      "cell_type": "markdown",
      "metadata": {
        "id": "view-in-github",
        "colab_type": "text"
      },
      "source": [
        "<a href=\"https://colab.research.google.com/github/hak1319/Python_study/blob/main/python_note.ipynb\" target=\"_parent\"><img src=\"https://colab.research.google.com/assets/colab-badge.svg\" alt=\"Open In Colab\"/></a>"
      ]
    },
    {
      "cell_type": "markdown",
      "source": [
        "# 함수 def\n",
        "\n",
        "        * 함수에서 선언된 변수 : 매개변수(parameter)\n",
        "        * 매개변수 : 함수내부에서 변수와 동일한 형태로 사용\n",
        "        * 함수 끝에 return 을하여 값을 반환함\n",
        "        * 함수 설정시 기본값을 가지는 매개변수는 반드시 다른 매개변수 뒤에 와야댐\n",
        "        def f1(x=1,y) <- 잘못됨\n",
        "        def f1(y,x=1,y2=3) <-이런식\n",
        "        * 함수 안에서 쓰이는 함수를 지역함수라 하는데 이것을 전역에 쓰게 하려면 global을 쓰면됨\n",
        "        global 지역변수\n",
        "\n",
        "\n",
        "> 종류\n",
        "1. 매개변수가 필요한 함수\n",
        "    - def function(): print()\n",
        "2. 매개변수가 필요하지 않은 함수\n",
        "    - def function(a,b)\n",
        "3. 결과값을 반환하는 함수(return)\n",
        "    - def function(a,b) :\n",
        "    return a+b\n",
        "4. 결과값을 반환하지 않는 함수\n",
        "\n",
        "# method\n",
        "\n",
        "        * map(function,iterable) : 적용할 함수, 함수를 적용할 데이터 집합\n",
        "        * min(a,b) : a와 b 중에 작은 것\n",
        "        * max(a,b)\n",
        "        * sum()\n",
        "        * find(str,start,end) : start 의 위치부터 end 까지 str 의 문자에 해당하는 위치 반환\n",
        "        * split() : 어떤 문자열을 공백을 기준으로 리스트 변경\n",
        "            - split(sep='') : 설정한 값을 기준으로 리스트로 변경\n",
        "            \n",
        "* python 의 다양한 모듈을 불러오는 방법\n",
        "    - (ex) math 모듈\n",
        "        - random 모듈 - 난수 무작위 섞기등의 함수\n",
        "        - sys,os - 운영체제 관련 함수\n",
        "        - urllib - 인터넷 관련 함수\n",
        "        - cslrobots - 휴보에 관련 함수\n",
        "        - cs1graphics - 그래픽 관련 함수\n",
        "        - cs1media - 사진 처리에 관련 함수\n",
        "    - import 모듈\n",
        "        + 이 모듈을 사용할 건데 사용할때마다 모듈.함수() - 모듈안에 있는 함수를 사용하겠다.\n",
        "    - from 모듈\n",
        "        + from 모듈* (모듈 안의 모든 함수를 쓰겠다)\n",
        "        + from 모듈 00(모듈 안의 00라는 함수를 쓰겠다)\n",
        "* 변수\n",
        "    - 영어 문자 , 숫자, 밑줄 문자로만 가능\n",
        "    - 숫자를 이름의 첫 글자로 사용불가\n",
        "    - 파이썬에 등록된 키워드와 동일한 이름 사용불가 (def,if,while..)\n",
        "    - 이름은 대,소 문자를 구별함  \n",
        "    - none 이라 뜨면 객체에 반환된 것이 없다는 것을 의미\n",
        "\n",
        "* 포맷연산자\n",
        "    - %d - 10진법 정수\n",
        "    - %3d - ~d가 차디하는 변수가 차지하는 값 3개라고 정의\n",
        "    - %g - 실수\n",
        "    - %.2f - 소수점 자리수가 설정된 실수(2f니까 소수점 2자리까지)\n",
        "    - %s - 모든자료형(문자열포함)\n",
        "\n",
        "### print\n",
        "        * 출력함수\n",
        "        * print(' ' * ) : 곱가능\n",
        "        * method\n",
        "            - strip() : 공백제거\n",
        "                print(00.lstrip()) #왼쪽공백제거 , rtsrip(), strip() #양쪽공백제거\n",
        "            - split('00') : 안에 들어있는 구분자를 기준으로 문자열을 분할. default는 공백\n",
        "                print(00.split(' ')) 00 값 중 ''에 해당하는 것을 기준으로 분할(띄어쓰기)\n",
        "                route ='서울역->대전역->부산역'\n",
        "                station = route.split('->')\n",
        "                print(station)  -> ['서울역','대전역','부산역']\n",
        "            - ''.join(리스트) : '00' 사이 구분자를 매게로 합쳐줌\n",
        "        * f-string\n",
        "            - f' ~~ {변수} ~~ '\n",
        "                print(f' 나는 {변수} 입니다')\n",
        "        * format\n",
        "            - ' ~~ {} ~~ {} ~~'.format(변수,변수) -> {} 안에 변수가 차례대로 들어감\n",
        "                print(' 나는 ~{} 에서 태어나 {}에서 자라 {} 언어를 사용합니다.'format(변수,변수,변수))\n",
        "        \n",
        "\n",
        "### 연산자\n",
        "\n",
        "        * divmod(a,b) : a를 b로 나눈 몫과 나머지를 동시에 구하는 연산자\n",
        "        * .swapcase() : 대소문자를 변환 해주는 연산자\n",
        "            - s= 'abced'\n",
        "              b= s.swapcase()\n",
        "        * +,-,*,/,//(정수나눗셈),%(나머지),**(거듭제곱)\n",
        "          문자열에도 사용 가능 - str(17)+\" \"+str(3.1415) -> 17 3.1415\n",
        "          대소비교는 사전식 순서에 따라 진행\n",
        "        * 논리연산자 !(not),&(and),|(or)       \n"
      ],
      "metadata": {
        "id": "BWYtoxAmcFq6"
      }
    },
    {
      "cell_type": "code",
      "source": [
        "route ='서울역->대전역->부산역'\n",
        "station = route.split('->')\n",
        "print(station)\n"
      ],
      "metadata": {
        "colab": {
          "base_uri": "https://localhost:8080/"
        },
        "id": "qTAQmtM_-m8r",
        "outputId": "bf99bfae-db73-49a7-8b0d-e782f05f19a1"
      },
      "execution_count": null,
      "outputs": [
        {
          "output_type": "stream",
          "name": "stdout",
          "text": [
            "['서울역', '대전역', '부산역']\n"
          ]
        }
      ]
    },
    {
      "cell_type": "code",
      "source": [
        "# map 함수 사용 예제\n",
        "def add(x, y):\n",
        "    return x + y\n",
        "\n",
        "numbers1 = [1, 2, 3, 4, 5]\n",
        "numbers2 = [10, 20, 30, 40, 50]\n",
        "added_numbers = map(add, numbers1, numbers2)\n",
        "print(list(added_numbers))  # [11, 22, 33, 44, 55]"
      ],
      "metadata": {
        "colab": {
          "base_uri": "https://localhost:8080/"
        },
        "id": "suFaHaZ1gEhJ",
        "outputId": "a11769ed-a667-4f5f-d101-c7c89fa0580a"
      },
      "execution_count": null,
      "outputs": [
        {
          "output_type": "stream",
          "name": "stdout",
          "text": [
            "[11, 22, 33, 44, 55]\n"
          ]
        }
      ]
    },
    {
      "cell_type": "code",
      "source": [
        "# split 예제\n",
        "s='abc def'\n",
        "s.split()\n",
        "s1='2019/12/13'\n",
        "s1.split('/')\n",
        "print(s)\n",
        "print(s1)"
      ],
      "metadata": {
        "colab": {
          "base_uri": "https://localhost:8080/"
        },
        "id": "P4_SFW6swmlt",
        "outputId": "27011fa2-46e0-4965-ab3d-93698c3992fd"
      },
      "execution_count": null,
      "outputs": [
        {
          "output_type": "stream",
          "name": "stdout",
          "text": [
            "abc def\n",
            "2019/12/13\n"
          ]
        }
      ]
    }
  ]
}