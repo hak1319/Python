{
  "nbformat": 4,
  "nbformat_minor": 0,
  "metadata": {
    "colab": {
      "provenance": [],
      "authorship_tag": "ABX9TyNCwXx8jgSY4J5ajMguhBT9",
      "include_colab_link": true
    },
    "kernelspec": {
      "name": "python3",
      "display_name": "Python 3"
    },
    "language_info": {
      "name": "python"
    }
  },
  "cells": [
    {
      "cell_type": "markdown",
      "metadata": {
        "id": "view-in-github",
        "colab_type": "text"
      },
      "source": [
        "<a href=\"https://colab.research.google.com/github/hak1319/Python_study/blob/main/python_note.ipynb\" target=\"_parent\"><img src=\"https://colab.research.google.com/assets/colab-badge.svg\" alt=\"Open In Colab\"/></a>"
      ]
    },
    {
      "cell_type": "markdown",
      "source": [
        "# 함수 def\n",
        "> 종류\n",
        "1. 매개변수가 필요한 함수\n",
        "    - def function(): print()\n",
        "2. 매개변수가 필요하지 않은 함수\n",
        "    - def function(a,b)\n",
        "3. 결과값을 반환하는 함수(return)\n",
        "    - def function(a,b) :\n",
        "    return a+b\n",
        "4. 결과값을 반환하지 않는 함수\n",
        "\n",
        "        * 함수에서 선언된 변수 : 매개변수(parameter)\n",
        "        * 매개변수 : 함수내부에서 변수와 동일한 형태로 사용\n",
        "        * 함수 끝에 return 을하여 값을 반환함\n",
        "        * 함수 설정시 기본값을 가지는 매개변수는 반드시 다른 매개변수 뒤에 와야댐\n",
        "        def f1(x=1,y) <- 잘못됨\n",
        "        def f1(y,x=1,y2=3) <-이런식\n",
        "        * 함수 안에서 쓰이는 함수를 지역함수라 하는데 이것을 전역에 쓰게 하려면 global을 쓰면됨\n",
        "        global 지역변수\n",
        "        * *args(언팩킹) : args 라는 언팩킹 설정 ,어떤 변수가 가변임\n",
        "        어떤 묶음이 오더라도 풀어서 사용하게 해준다 . 튜플형식으로 게속 늘려서 와도 내가 풀어서 사용할게\n",
        "        * **kwargs(언팩킹) : 딕셔너리 형태의 변수 언팩킹\n",
        "        * 중첩함수\n",
        "        * 람다(lambda) 람다 함수를 변수에 할당\n",
        "            - 이름 없는 함수를 만드는 것\n",
        "            - 간결한 코드 작성시 사용 lambda x,y:x*y\n",
        "            - 메모리 절약 , 가독성 향상 , 코드 간결\n",
        "            - 즉시 실행 함수 - >메모리 초기화\n",
        "            - 남발시 가독성 오히려 감수\n",
        "\n",
        "\n",
        "# method\n",
        "\n",
        "        * map(function,iterable) : 적용할 함수, 함수를 적용할 데이터 집합\n",
        "        * min(a,b) : a와 b 중에 작은 것\n",
        "        * max(a,b)\n",
        "        * sum()\n",
        "        * find(str,start,end) : start 의 위치부터 end 까지 str 의 문자에 해당하는 위치 반환\n",
        "        * split() : 어떤 문자열을 공백을 기준으로 리스트 변경\n",
        "            - split(sep='') : 설정한 값을 기준으로 리스트로 변경\n",
        "            \n",
        "* python 의 다양한 모듈을 불러오는 방법\n",
        "    - (ex) math 모듈\n",
        "        - random 모듈 - 난수 무작위 섞기등의 함수\n",
        "        - sys,os - 운영체제 관련 함수\n",
        "        - urllib - 인터넷 관련 함수\n",
        "        - cslrobots - 휴보에 관련 함수\n",
        "        - cs1graphics - 그래픽 관련 함수\n",
        "        - cs1media - 사진 처리에 관련 함수\n",
        "    - import 모듈\n",
        "        + 이 모듈을 사용할 건데 사용할때마다 모듈.함수() - 모듈안에 있는 함수를 사용하겠다.\n",
        "    - from 모듈\n",
        "        + from 모듈* (모듈 안의 모든 함수를 쓰겠다)\n",
        "        + from 모듈 00(모듈 안의 00라는 함수를 쓰겠다)\n",
        "* 변수\n",
        "    - 영어 문자 , 숫자, 밑줄 문자로만 가능\n",
        "    - 숫자를 이름의 첫 글자로 사용불가\n",
        "    - 파이썬에 등록된 키워드와 동일한 이름 사용불가 (def,if,while..)\n",
        "    - 이름은 대,소 문자를 구별함  \n",
        "    - none 이라 뜨면 객체에 반환된 것이 없다는 것을 의미\n",
        "\n",
        "* 포맷연산자\n",
        "    - %d - 10진법 정수\n",
        "    - %3d - ~d가 차디하는 변수가 차지하는 값 3개라고 정의\n",
        "    - %g - 실수\n",
        "    - %.2f - 소수점 자리수가 설정된 실수(2f니까 소수점 2자리까지)\n",
        "    - %s - 모든자료형(문자열포함)\n",
        "* 예외 처리\n",
        "    - try : 00 except 0000(ex ValueError) : 000 -> 에러가 나오면 벨류에러가 잡아서 그부문이 실행됨\n",
        "\n",
        "### print\n",
        "        * 출력함수\n",
        "        * print(' ' * ) : 곱가능\n",
        "        * method\n",
        "            - strip() : 공백제거\n",
        "                print(00.lstrip()) #왼쪽공백제거 , rtsrip(), strip() #양쪽공백제거\n",
        "            - split('00') : 안에 들어있는 구분자를 기준으로 문자열을 분할. default는 공백\n",
        "                print(00.split(' ')) 00 값 중 ''에 해당하는 것을 기준으로 분할(띄어쓰기)\n",
        "                route ='서울역->대전역->부산역'\n",
        "                station = route.split('->')\n",
        "                print(station)  -> ['서울역','대전역','부산역']\n",
        "            - ''.join(리스트) : '00' 사이 구분자를 매게로 합쳐줌\n",
        "        * f-string\n",
        "            - f' ~~ {변수} ~~ '\n",
        "                print(f' 나는 {변수} 입니다')\n",
        "        * format\n",
        "            - ' ~~ {} ~~ {} ~~'.format(변수,변수) -> {} 안에 변수가 차례대로 들어감\n",
        "                print(' 나는 ~{} 에서 태어나 {}에서 자라 {} 언어를 사용합니다.'format(변수,변수,변수))\n",
        "* 문자열에서 ex a = \"프린트는\\t출력\" 이런식으로 사용가능 출력하면 저코드가 추가되어 나온다\n",
        " - \\n : 개행\n",
        " - \\t : 탭\n",
        " - \\\\ : 문자\n",
        " - \\\" : 문자\n",
        " - \\000 : 널문자\n",
        " - raw string 을 사용하면 escape 문자 출력가능 a = r'a\\t\\a\\'\n",
        "\n",
        "### 연산자\n",
        "\n",
        "        * divmod(a,b) : a를 b로 나눈 몫과 나머지를 동시에 구하는 연산자\n",
        "        * .swapcase() : 대소문자를 변환 해주는 연산자\n",
        "            - s= 'abced'\n",
        "              b= s.swapcase()\n",
        "        * +,-,*,/,//(정수나눗셈),%(나머지),**(거듭제곱)\n",
        "          문자열에도 사용 가능 - str(17)+\" \"+str(3.1415) -> 17 3.1415\n",
        "          대소비교는 사전식 순서에 따라 진행\n",
        "        * 논리연산자 !(not),&(and),|(or)       \n",
        "\n",
        "### 입력 input()\n",
        "\n",
        "        * 기본 타입 (str)\n",
        "        * int(input()) - 형변환 가능\n",
        "        * print 문에서 바로 입력 받기\n",
        "            - print(\"성 - {} ,이름 - {}\".format(input(\"성을 적으시오 : \"),input(\"이름 \" : )))\n",
        "\n"
      ],
      "metadata": {
        "id": "BWYtoxAmcFq6"
      }
    },
    {
      "cell_type": "code",
      "source": [
        "route ='서울역->대전역->부산역'\n",
        "station = route.split('->')\n",
        "print(station)\n"
      ],
      "metadata": {
        "colab": {
          "base_uri": "https://localhost:8080/"
        },
        "id": "qTAQmtM_-m8r",
        "outputId": "bf99bfae-db73-49a7-8b0d-e782f05f19a1"
      },
      "execution_count": null,
      "outputs": [
        {
          "output_type": "stream",
          "name": "stdout",
          "text": [
            "['서울역', '대전역', '부산역']\n"
          ]
        }
      ]
    },
    {
      "cell_type": "code",
      "source": [
        "# map 함수 사용 예제\n",
        "def add(x, y):\n",
        "    return x + y\n",
        "\n",
        "numbers1 = [1, 2, 3, 4, 5]\n",
        "numbers2 = [10, 20, 30, 40, 50]\n",
        "added_numbers = map(add, numbers1, numbers2)\n",
        "print(list(added_numbers))  # [11, 22, 33, 44, 55]"
      ],
      "metadata": {
        "colab": {
          "base_uri": "https://localhost:8080/"
        },
        "id": "suFaHaZ1gEhJ",
        "outputId": "a11769ed-a667-4f5f-d101-c7c89fa0580a"
      },
      "execution_count": null,
      "outputs": [
        {
          "output_type": "stream",
          "name": "stdout",
          "text": [
            "[11, 22, 33, 44, 55]\n"
          ]
        }
      ]
    },
    {
      "cell_type": "code",
      "source": [
        "# split 예제\n",
        "s='abc def'\n",
        "s.split()\n",
        "s1='2019/12/13'\n",
        "s1.split('/')\n",
        "print(s)\n",
        "print(s1)"
      ],
      "metadata": {
        "colab": {
          "base_uri": "https://localhost:8080/"
        },
        "id": "P4_SFW6swmlt",
        "outputId": "27011fa2-46e0-4965-ab3d-93698c3992fd"
      },
      "execution_count": null,
      "outputs": [
        {
          "output_type": "stream",
          "name": "stdout",
          "text": [
            "abc def\n",
            "2019/12/13\n"
          ]
        }
      ]
    },
    {
      "cell_type": "code",
      "source": [
        "# 튜플 언팩킹 *\n",
        "def args_func(*args):\n",
        "    for i, v in enumerate(args):\n",
        "        print('result : {}'.format(i),v)\n",
        "    print('-------')\n",
        "\n",
        "args_func('lee')\n",
        "args_func(['lee','park'])\n",
        "\n"
      ],
      "metadata": {
        "colab": {
          "base_uri": "https://localhost:8080/"
        },
        "id": "DcKh2HyaxVr-",
        "outputId": "6ef3f35c-1740-47dd-b3e3-d5e170774878"
      },
      "execution_count": null,
      "outputs": [
        {
          "output_type": "stream",
          "name": "stdout",
          "text": [
            "result : 0 lee\n",
            "-------\n",
            "result : 0 ['lee', 'park']\n",
            "-------\n"
          ]
        }
      ]
    },
    {
      "cell_type": "code",
      "source": [
        "# 딕셔너리 언팩킹\n",
        "def kwargs_func(**kwargs):\n",
        "    for v in kwargs.keys():\n",
        "        print(\"{}\".format(v),kwargs[v])\n",
        "    print ('--------')\n",
        "kwargs_func(name='lee')\n",
        "kwargs_func(name='lee',name2='park',send=True)\n"
      ],
      "metadata": {
        "colab": {
          "base_uri": "https://localhost:8080/"
        },
        "id": "9_er_xRx0M3h",
        "outputId": "618b16e3-ae3d-4a4f-94c9-371c5924f3d3"
      },
      "execution_count": null,
      "outputs": [
        {
          "output_type": "stream",
          "name": "stdout",
          "text": [
            "name lee\n",
            "--------\n",
            "name lee\n",
            "name2 park\n",
            "send True\n",
            "--------\n"
          ]
        }
      ]
    },
    {
      "cell_type": "code",
      "source": [
        "# 전체 혼합\n",
        "def example(args_1,args_2,*args,**kwargs):\n",
        "    print(args_1,args_2,args,kwargs)\n",
        "\n",
        "example(10,20,'lee','kim','park',age1=20,age2=20,age3=30) # 인자를 게속 넣을수 있다 . 인자를 엄청 유연하게 사용할 수 있다."
      ],
      "metadata": {
        "colab": {
          "base_uri": "https://localhost:8080/"
        },
        "id": "yoqoGgxP0_tu",
        "outputId": "703f9074-b452-4bf2-f846-9a8a3a1044f3"
      },
      "execution_count": null,
      "outputs": [
        {
          "output_type": "stream",
          "name": "stdout",
          "text": [
            "10 20 ('lee', 'kim', 'park') {'age1': 20, 'age2': 20, 'age3': 30}\n"
          ]
        }
      ]
    },
    {
      "cell_type": "code",
      "source": [
        "# 중첩 함수\n",
        "def nested_func(num):\n",
        "    def func_in_func(num):\n",
        "        print(num)\n",
        "    print(\"in fun\")\n",
        "    func_in_func(num+100)\n",
        "nested_func(100)"
      ],
      "metadata": {
        "colab": {
          "base_uri": "https://localhost:8080/"
        },
        "id": "JmBzhaRH2JXa",
        "outputId": "3460c684-74fa-4421-a7b6-96fcd1ebd1c1"
      },
      "execution_count": null,
      "outputs": [
        {
          "output_type": "stream",
          "name": "stdout",
          "text": [
            "in fun\n",
            "200\n"
          ]
        }
      ]
    },
    {
      "cell_type": "code",
      "source": [
        "# 람다식 예제\n",
        "\n",
        "#a = lambda x , y : x * y\n",
        "\n",
        "def mul_func(x,y):\n",
        "    return x* y\n",
        "\n",
        "print(mul_func(10,50))\n",
        "\n",
        "mul_func_var=mul_func\n",
        "\n",
        "print(mul_func_var(20,50))\n",
        "\n",
        "lambda_mul_func =lambda x,y : x*y\n",
        "\n",
        "print(lambda_mul_func(50,50))"
      ],
      "metadata": {
        "colab": {
          "base_uri": "https://localhost:8080/"
        },
        "id": "phKJRZi622u3",
        "outputId": "bffa4d38-1749-405f-d784-0242d0616d6f"
      },
      "execution_count": null,
      "outputs": [
        {
          "output_type": "stream",
          "name": "stdout",
          "text": [
            "500\n",
            "1000\n",
            "2500\n"
          ]
        }
      ]
    },
    {
      "cell_type": "code",
      "source": [
        "def func_final(x,y,func) :\n",
        "    print(x*y*func(100,100))\n",
        "\n",
        "func_final(10,20,lambda x,y:x*y)\n"
      ],
      "metadata": {
        "colab": {
          "base_uri": "https://localhost:8080/"
        },
        "id": "i5yBiiIG8Awx",
        "outputId": "dee5d79e-8e00-4e2b-c915-9a8b89da6392"
      },
      "execution_count": null,
      "outputs": [
        {
          "output_type": "stream",
          "name": "stdout",
          "text": [
            "2000000\n"
          ]
        }
      ]
    },
    {
      "cell_type": "code",
      "source": [
        "#예제 -> 예외처리\n",
        "try :\n",
        "    n = int(input('num: '))\n",
        "    print('숫자군')\n",
        "except ValueError :\n",
        "    print('이것은 숫자가아니야')"
      ],
      "metadata": {
        "colab": {
          "base_uri": "https://localhost:8080/"
        },
        "id": "BmkHUEzLG3np",
        "outputId": "126d7b4a-10de-4295-c4af-3498b4530dd7"
      },
      "execution_count": 3,
      "outputs": [
        {
          "output_type": "stream",
          "name": "stdout",
          "text": [
            "num: 헿\n",
            "이것은 숫자가아니야\n"
          ]
        }
      ]
    },
    {
      "cell_type": "code",
      "source": [
        "#예제2 -> 올바른 값 이력 완료까지 지속\n",
        "while True :\n",
        "    try :\n",
        "        n = int(input('num: '))\n",
        "\n",
        "        break\n",
        "    except ValueError :\n",
        "        print('이것은 숫자가아니야')\n",
        "print(\"숫자군\")"
      ],
      "metadata": {
        "colab": {
          "base_uri": "https://localhost:8080/"
        },
        "id": "z6Tw_qtCIW4k",
        "outputId": "ad8db57e-a57b-46b1-f3ae-7df6e2ac1753"
      },
      "execution_count": 6,
      "outputs": [
        {
          "output_type": "stream",
          "name": "stdout",
          "text": [
            "num: 숫자\n",
            "이것은 숫자가아니야\n",
            "num: 3\n",
            "숫자군\n"
          ]
        }
      ]
    },
    {
      "cell_type": "code",
      "source": [
        "a = '변수는\\\"키\\\"'\n",
        "print(a)"
      ],
      "metadata": {
        "colab": {
          "base_uri": "https://localhost:8080/"
        },
        "id": "E1ZyalK2KlBO",
        "outputId": "c05d7b39-d8b2-4cdd-fdf9-d92b03c736a0"
      },
      "execution_count": 12,
      "outputs": [
        {
          "output_type": "stream",
          "name": "stdout",
          "text": [
            "변수는\"키\"\n"
          ]
        }
      ]
    },
    {
      "cell_type": "code",
      "source": [
        "raw1=r'D:\\python\\python3'\n",
        "raw2=r\"\\\\x\\y\\z\\q\"\n",
        "print(raw1)\n",
        "print(raw2)"
      ],
      "metadata": {
        "colab": {
          "base_uri": "https://localhost:8080/"
        },
        "id": "lhtXl20EK_K4",
        "outputId": "010171fe-83c5-4d20-d11c-d8736e810651"
      },
      "execution_count": 13,
      "outputs": [
        {
          "output_type": "stream",
          "name": "stdout",
          "text": [
            "D:\\python\\python3\n",
            "\\\\x\\y\\z\\q\n"
          ]
        }
      ]
    }
  ]
}