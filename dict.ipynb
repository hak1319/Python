{
  "nbformat": 4,
  "nbformat_minor": 0,
  "metadata": {
    "colab": {
      "provenance": [],
      "authorship_tag": "ABX9TyMBxRClHzh6lE8CpxombKC6",
      "include_colab_link": true
    },
    "kernelspec": {
      "name": "python3",
      "display_name": "Python 3"
    },
    "language_info": {
      "name": "python"
    }
  },
  "cells": [
    {
      "cell_type": "markdown",
      "metadata": {
        "id": "view-in-github",
        "colab_type": "text"
      },
      "source": [
        "<a href=\"https://colab.research.google.com/github/hak1319/Python/blob/main/dict.ipynb\" target=\"_parent\"><img src=\"https://colab.research.google.com/assets/colab-badge.svg\" alt=\"Open In Colab\"/></a>"
      ]
    },
    {
      "cell_type": "code",
      "execution_count": null,
      "metadata": {
        "id": "RJStZp76Uqw7"
      },
      "outputs": [],
      "source": []
    },
    {
      "cell_type": "code",
      "source": [],
      "metadata": {
        "id": "B1uqqN0Rb7Qq"
      },
      "execution_count": null,
      "outputs": []
    },
    {
      "cell_type": "markdown",
      "source": [
        " ## dict (딕셔너리)\n",
        "\n",
        "        * list, tuple, str, range(범위안에 연속된 데이터를 만드는 시퀀스 였습니다.)\n",
        "        공통적인 특징 : 데이터의 연관성이 없음\n",
        "        * dict 는 여러개의 값이 일렬로 정렬되면서도 값끼리의 연관성이 존재\n",
        "        (게임 캐릭터 (힘 : 30, 지능 : 20, 체력 : 40, 민첩 : 90))\n",
        "        * dict 생성방법은 중괄호 {}\n",
        "\n",
        "###method\n",
        "        * zip() : 병렬처리를 도와줌\n",
        "        ex) dcit1 = dict(zip([\"힘\",\"지능\",\"체력\",\"민첩\"],[30,20,40,90]))\n",
        "        딕셔너리 가됨 (for문에 도움)\n",
        "        배열의 개수를 맞춰주는 것 중요\n",
        "        작은것의 배열에 맞춰 잘름\n",
        "\n",
        "        * .key() -  key값만 반환\n",
        "        * .value() - value값만 반환\n",
        "        * .items() - pair 로 나옴\n",
        "        type(00.tiems()) -> calss 자체가 dict_items 임\n",
        "        list1 = list(00.items())\n",
        "        list1[0] -> 출력 인덱싱을 하면 원하는 값을 뽑아 올 수 있음\n",
        "        * .update - 딕셔너리 값 추가 update({\"00\":00})\n",
        "        \n",
        "\n",
        "\n"
      ],
      "metadata": {
        "id": "ab48yKj3Uxo3"
      }
    },
    {
      "cell_type": "code",
      "source": [
        "# list [] , tuple () , dict {}\n",
        "\n",
        "mag = {\"힘\" : 30,\n",
        "       \"지능\" : 20,\n",
        "       \"체력\" : 40,\n",
        "       \"민첩\" : 90}\n",
        "# {key : value}\n",
        "# {key1:value, key2:value}\n",
        "# 시퀀스 데이터는 인덱싱을 이용해 데이터를 찾음\n",
        "print(f'마법사의 힘은 {mag[\"힘\"]}입니다.')"
      ],
      "metadata": {
        "colab": {
          "base_uri": "https://localhost:8080/"
        },
        "id": "t_X1kHhUVe6S",
        "outputId": "25197c89-369e-4efa-d66d-9f49cb5b8914"
      },
      "execution_count": 8,
      "outputs": [
        {
          "output_type": "stream",
          "name": "stdout",
          "text": [
            "마법사의 힘은 30입니다.\n"
          ]
        }
      ]
    },
    {
      "cell_type": "code",
      "source": [
        "mag1=list(mag.items())\n",
        "print(mag1)\n",
        "\n",
        "mag1[0]"
      ],
      "metadata": {
        "colab": {
          "base_uri": "https://localhost:8080/"
        },
        "id": "kMWYUs1qZ0uJ",
        "outputId": "3556d666-220c-4f19-f084-6e0b22dde5f9"
      },
      "execution_count": 10,
      "outputs": [
        {
          "output_type": "stream",
          "name": "stdout",
          "text": [
            "[('힘', 30), ('지능', 20), ('체력', 40), ('민첩', 90)]\n"
          ]
        },
        {
          "output_type": "execute_result",
          "data": {
            "text/plain": [
              "('힘', 30)"
            ]
          },
          "metadata": {},
          "execution_count": 10
        }
      ]
    },
    {
      "cell_type": "code",
      "source": [],
      "metadata": {
        "id": "qcokYkvqVxTz"
      },
      "execution_count": null,
      "outputs": []
    }
  ]
}