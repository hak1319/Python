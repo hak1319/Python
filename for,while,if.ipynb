{
  "nbformat": 4,
  "nbformat_minor": 0,
  "metadata": {
    "colab": {
      "provenance": [],
      "authorship_tag": "ABX9TyPRGdICWSBJMSEhVS9VQFPt",
      "include_colab_link": true
    },
    "kernelspec": {
      "name": "python3",
      "display_name": "Python 3"
    },
    "language_info": {
      "name": "python"
    }
  },
  "cells": [
    {
      "cell_type": "markdown",
      "metadata": {
        "id": "view-in-github",
        "colab_type": "text"
      },
      "source": [
        "<a href=\"https://colab.research.google.com/github/hak1319/Python_study/blob/main/for%2Cwhile%2Cif.ipynb\" target=\"_parent\"><img src=\"https://colab.research.google.com/assets/colab-badge.svg\" alt=\"Open In Colab\"/></a>"
      ]
    },
    {
      "cell_type": "markdown",
      "source": [
        "# for\n",
        "\n",
        "        * for 변수 in 범위 :\n",
        "\n",
        "# while\n",
        "\n",
        "# if 조건문\n",
        "\n",
        "        * 다중조건문\n",
        "        * 논리연산자\n"
      ],
      "metadata": {
        "id": "-SbMwWslZ7WQ"
      }
    }
  ]
}