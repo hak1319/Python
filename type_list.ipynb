{
  "nbformat": 4,
  "nbformat_minor": 0,
  "metadata": {
    "colab": {
      "provenance": [],
      "authorship_tag": "ABX9TyP5KM9QL2MzGuMXReg4hurS",
      "include_colab_link": true
    },
    "kernelspec": {
      "name": "python3",
      "display_name": "Python 3"
    },
    "language_info": {
      "name": "python"
    }
  },
  "cells": [
    {
      "cell_type": "markdown",
      "metadata": {
        "id": "view-in-github",
        "colab_type": "text"
      },
      "source": [
        "<a href=\"https://colab.research.google.com/github/hak1319/Python/blob/main/type_list.ipynb\" target=\"_parent\"><img src=\"https://colab.research.google.com/assets/colab-badge.svg\" alt=\"Open In Colab\"/></a>"
      ]
    },
    {
      "cell_type": "markdown",
      "source": [],
      "metadata": {
        "id": "e4AWVeJ2w_TT"
      }
    },
    {
      "cell_type": "markdown",
      "source": [
        "#list\n",
        "\n",
        "        * 시퀀스 자료형에서 사용 가능한 method (count(), index(), split() ...)\n",
        "        * 슬라이싱 ([:],[::])\n",
        "        * 2차원 배열 ([[[3,1],[2,1]])\n",
        "        \n",
        "\n",
        "\n",
        "\n",
        "\n",
        "\n",
        "\n",
        "\n"
      ],
      "metadata": {
        "id": "F6clnp_cw_Vi"
      }
    }
  ]
}